{
 "cells": [
  {
   "cell_type": "code",
   "execution_count": null,
   "metadata": {},
   "outputs": [],
   "source": [
    "import torch\n",
    "import torch.nn as nn\n",
    "import pandas as pd\n",
    "import matplotlib.pyplot as plt\n",
    "from tqdm import trange"
   ]
  },
  {
   "cell_type": "code",
   "execution_count": null,
   "metadata": {},
   "outputs": [],
   "source": [
    "class MyRnn(nn.Module):\n",
    "  def __init__(self, in_d=2, out_d=2, hidden_d=4, num_hidden=1):\n",
    "    super(MyRnn, self).__init__()\n",
    "    self.rnn = nn.RNN(input_size=in_d, hidden_size=hidden_d, num_layers=num_hidden)\n",
    "    self.fc = nn.Linear(hidden_d, out_d)\n",
    "\n",
    "  def forward(self, x, h0):\n",
    "    # print(x.shape)\n",
    "    r, h = self.rnn(x, h0)\n",
    "    y = self.fc(r)  # no activation on the output\n",
    "    return y, h"
   ]
  },
  {
   "cell_type": "code",
   "execution_count": null,
   "metadata": {},
   "outputs": [],
   "source": [
    "s1 = torch.tensor([[4, 15], [4, 14], [4, 13], [4, 12], [4, 11], [4, 10], [4, 9], [4, 8], [4,7], [4, 6], [4, 5], [4, 4], [4, 3], [4, 2]], dtype=torch.float)[:, None, :] \n",
    "s2 = torch.tensor([[4, 15], [5,15],[6,15],[7,15],[8,15],[9,15],[10,15],[11, 15],[12, 15],[12,14],[12,13],[12,12],[12,11],[12,10],[12,9],[12,8],[12,7],[12,6],[12,5]],dtype=torch.float)[:, None, :]"
   ]
  },
  {
   "cell_type": "code",
   "execution_count": null,
   "metadata": {},
   "outputs": [],
   "source": [
    "x = torch.cat((s1,s2),dim=0)\n",
    "print(x.shape)\n",
    "# print(x)"
   ]
  },
  {
   "cell_type": "code",
   "execution_count": null,
   "metadata": {},
   "outputs": [],
   "source": [
    "mu = x.mean(dim=0)\n",
    "sig=x.std(dim=0)\n",
    "sequences = [(s1-mu)/sig, (s2-mu)/sig]  # pythonic list to hold sequences of un-even length"
   ]
  },
  {
   "cell_type": "code",
   "execution_count": null,
   "metadata": {},
   "outputs": [],
   "source": [
    "in_d = s1.shape[-1]\n",
    "out_d = in_d\n",
    "hidden_d = 8\n",
    "num_hidden = 1\n",
    "rnn = MyRnn(in_d, out_d, hidden_d, num_hidden)\n",
    "loss = []\n",
    "criterion = nn.MSELoss()\n",
    "opt = torch.optim.SGD(rnn.parameters(), lr=0.01)\n",
    "n_epochs = 1000\n",
    "for e in trange(n_epochs):\n",
    "  for s in sequences:\n",
    "    pred, _ = rnn(s[:-1,...], torch.zeros(num_hidden, 1, hidden_d, dtype=torch.float))  # predict next step, init hidden state to zero at the begining of the sequence\n",
    "    print(f'pred: {pred}')\n",
    "    print(f's[1:,...]: {s[1:, ...]}')\n",
    "    err = criterion(pred, s[1:, ...])  # predict next step for each step\n",
    "    opt.zero_grad()\n",
    "    err.backward()\n",
    "    opt.step()\n",
    "    loss.append(err.item())\n",
    "plt.plot(loss)\n",
    "plt.ylabel('Loss')\n",
    "plt.xlabel('iteration')\n",
    "plt.show()"
   ]
  },
  {
   "cell_type": "code",
   "execution_count": null,
   "metadata": {},
   "outputs": [],
   "source": [
    "pred_points = []\n",
    "actual_points = []\n",
    "rnn.eval()\n",
    "with torch.no_grad():\n",
    "  k = 2\n",
    "  for si, s in enumerate(sequences):\n",
    "    pred, h = rnn(s[:k,...], torch.zeros(num_hidden, 1, hidden_d, dtype=torch.float))  # given first k steps predict the next one\n",
    "    print('seq {}, prev = {}  -> predicted {}th step = {}, actual step = {}'.format(si, s[k-1,...]*sig+mu, k, pred[-1, ...]*sig + mu, s[k, ...]*sig+mu))\n",
    "    prev = (torch.round(pred[-1:, ...]*sig + mu) - mu) / sig  # round the prediction, attmepting to avoid accumulation of error\n",
    "    # continue to predict \n",
    "    for j in  range(k+1, s.shape[0]):\n",
    "      pred, h = rnn(prev, h)\n",
    "      print('\\t\\tpredicted step {} (prev = {}) = {}, actual step = {}'.format(j, prev*sig+mu, pred[-1,...]*sig+mu, s[j, ...]*sig + mu))\n",
    "      prev = (torch.round(pred*sig + mu) - mu) / sig\n",
    "      pred_points.append((pred[-1,...]*sig+mu).detach().cpu().numpy())\n",
    "      actual_points.append((s[j, ...]*sig + mu).detach().cpu().numpy)\n",
    "  print('\\n')"
   ]
  }
 ],
 "metadata": {
  "kernelspec": {
   "display_name": "Python 3.7.11 ('bayesianNN')",
   "language": "python",
   "name": "python3"
  },
  "language_info": {
   "codemirror_mode": {
    "name": "ipython",
    "version": 3
   },
   "file_extension": ".py",
   "mimetype": "text/x-python",
   "name": "python",
   "nbconvert_exporter": "python",
   "pygments_lexer": "ipython3",
   "version": "3.7.11"
  },
  "orig_nbformat": 4,
  "vscode": {
   "interpreter": {
    "hash": "65c0cf972fe55eaf0c962c4929f592d86a72c532b00283f932a90435beee88e0"
   }
  }
 },
 "nbformat": 4,
 "nbformat_minor": 2
}

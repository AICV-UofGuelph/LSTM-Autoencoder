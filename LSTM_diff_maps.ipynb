{
 "cells": [
  {
   "cell_type": "code",
   "execution_count": null,
   "metadata": {},
   "outputs": [],
   "source": [
    "import os, random\n",
    "import numpy as np\n",
    "import torch\n",
    "from torch import nn\n",
    "import torch.optim as optim\n",
    "from torch.utils.data import DataLoader\n",
    "from tqdm import tqdm\n",
    "import matplotlib.pyplot as plt\n",
    "from scipy.spatial import distance"
   ]
  },
  {
   "cell_type": "code",
   "execution_count": null,
   "metadata": {},
   "outputs": [],
   "source": [
    "def check_prox(a, b, threshhold):\n",
    "    #get distance from a to b\n",
    "    delta_x = np.abs(a[0] - b[0])\n",
    "    delta_y = np.abs(a[1] - b[1])\n",
    "    dist = np.sqrt(np.square(delta_x) + np.square(delta_y))\n",
    "\n",
    "    if(dist <= threshhold):\n",
    "        return 1\n",
    "    else:\n",
    "        return 0"
   ]
  },
  {
   "cell_type": "code",
   "execution_count": null,
   "metadata": {},
   "outputs": [],
   "source": [
    "class PathsDataset(torch.utils.data.Dataset):\n",
    "    # init the dataset, shape = L x W\n",
    "    def __init__(self, gen_dir, transform=None, shape = (100,100), device='cpu', stop_after=500):\n",
    "        self.device = device\n",
    "        self.maps_and_paths = []\n",
    "\n",
    "        num_maps = 0\n",
    "        for directory in tqdm(os.listdir(gen_dir)):\n",
    "            num_maps += 1\n",
    "            dir_path = os.path.join(gen_dir, directory)\n",
    "            sequence = []\n",
    "\n",
    "            # open map file:\n",
    "            with open(f\"{dir_path}/{directory}.txt\", 'r') as f:\n",
    "                self.flat_map = np.loadtxt(f)\n",
    "                self.map = np.asarray(self.flat_map, dtype=np.float32).reshape(shape[0],shape[1])\n",
    "\n",
    "            # add map to sequence array:\n",
    "            sequence.append(torch.tensor(self.map))\n",
    "\n",
    "            path_dir = f\"{dir_path}/paths/\"\n",
    "            num_paths = 0\n",
    "            for filename in os.listdir(path_dir):\n",
    "                num_paths += 1\n",
    "                with open(os.path.join(path_dir, filename), 'r') as f: # open in readonly mode\n",
    "                    path_points_list = [] # a list to hold each point in a path\n",
    "                    self.flat_path = np.loadtxt(f) # load in the flat path from file\n",
    "                    self.path = np.asarray(self.flat_path, dtype=np.float32).reshape(len(self.flat_path)//2,2) #unflatten the path from the file\n",
    "                    for point in self.path:\n",
    "                        x = point[0]\n",
    "                        y = point[1]\n",
    "                        this_point = [x, y]\n",
    "                        path_points_list.append(this_point)\n",
    "                # sequence = []\n",
    "                # sequence.append(torch.tensor(self.map))\n",
    "                sequence.append(torch.tensor(path_points_list, dtype=torch.float)[:, :])\n",
    "                \n",
    "            self.maps_and_paths.append(sequence)\n",
    "\n",
    "            if num_maps == stop_after:\n",
    "                break\n",
    "        \n",
    "        self.transform = transform\n",
    "        print(\"Done!\")\n",
    "\n",
    "    def convert_path(self, map_dim, path):\n",
    "        path_mat = np.zeros(map_dim, dtype=float)\n",
    "\n",
    "        # Make the path continuous\n",
    "        for i in range(path.shape[0] - 1):\n",
    "            x = path[i,0]\n",
    "            x1 = path[i,0]\n",
    "            x2 = path[i+1,0]\n",
    "\n",
    "            y = path[i,1]\n",
    "            y1 = path[i,1]\n",
    "            y2 = path[i+1,1]\n",
    "\n",
    "            if (x1 < x2):\n",
    "                x_dir = 1\n",
    "            else:\n",
    "                x_dir = -1\n",
    "\n",
    "            if (y1 < y2):\n",
    "                y_dir = 1\n",
    "            else:\n",
    "                y_dir = -1\n",
    "\n",
    "            # Determine y from x\n",
    "            if x2-x1 != 0:\n",
    "                m = (y2-y1)/(x2-x1)\n",
    "                while x != x2:\n",
    "                    y = round(m*(x-x1) + y1)\n",
    "                    path_mat[y,x] = 1\n",
    "                    x += x_dir\n",
    "            else:\n",
    "                while x != x2:\n",
    "                    path_mat[y1,x] = 1\n",
    "                    x += x_dir\n",
    "\n",
    "\n",
    "            x = path[i,0]\n",
    "            x1 = path[i,0]\n",
    "            x2 = path[i+1,0]\n",
    "\n",
    "            y = path[i,1]\n",
    "            y1 = path[i,1]\n",
    "            y2 = path[i+1,1]\n",
    "\n",
    "            # Determine x from y\n",
    "            if y2-y1 != 0:\n",
    "                m = (x2-x1)/(y2-y1)\n",
    "                while y != y2:\n",
    "                    x = round(m*(y-y1) + x1)\n",
    "                    path_mat[y,x] = 1\n",
    "                    y += y_dir\n",
    "            else:\n",
    "                while y != y2:\n",
    "                    path_mat[y,x1] = 1\n",
    "                    y += y_dir\n",
    "\n",
    "        return path\n",
    "\n",
    "    def __len__(self):\n",
    "        return len(self.maps_and_paths)\n",
    "\n",
    "    def __getitem__(self, idx):\n",
    "        x = self.maps_and_paths[idx]\n",
    "        if self.transform:\n",
    "            x = self.transform(x)\n",
    "        \n",
    "        return x"
   ]
  },
  {
   "cell_type": "code",
   "execution_count": null,
   "metadata": {},
   "outputs": [],
   "source": [
    "device = torch.device(\"cuda\" if torch.cuda.is_available() else \"cpu\")\n",
    "# dataset name\n",
    "MAP_NAME = '8x12_map_cropped'\n",
    "DATASET = 'train'\n",
    "MAP_SHAPE = (64,64)\n",
    "# loading info\n",
    "ENCODER_PATH = f\"checkpoints/encoder/\"\n",
    "DECODER_PATH = f\"checkpoints/decoder/\"\n",
    "LOAD_EPOCH = 499\n",
    "# training parameters\n",
    "BATCH_SIZE = 1\n",
    "train_dataset = PathsDataset(gen_dir = f\"./env/many_maps_1/{DATASET}/\", shape = MAP_SHAPE, transform=None, device=device, stop_after=6000)\n",
    "dataloader = DataLoader(train_dataset, batch_size=BATCH_SIZE, shuffle=True, drop_last=True)\n",
    "\n",
    "#Dropout (yes=1 or no=0)\n",
    "DROPOUT = 1\n",
    "DROPOUT_P = 0.2 # what % of nodes to drop out (usually 0.2 to 0.5)"
   ]
  },
  {
   "cell_type": "code",
   "execution_count": null,
   "metadata": {},
   "outputs": [],
   "source": [
    "class Encoder(nn.Module):\n",
    "    \n",
    "    def __init__(self):\n",
    "        super().__init__()\n",
    "        \n",
    "        ### Convolutional section\n",
    "        self.encoder_cnn = nn.Sequential(\n",
    "            nn.Conv2d(1, 16, 5, stride=2, padding=1),\n",
    "            nn.BatchNorm2d(16),\n",
    "            nn.ReLU(True),\n",
    "            nn.Conv2d(16, 32, 5, stride=2, padding=1),\n",
    "            nn.BatchNorm2d(32),\n",
    "            nn.ReLU(True),\n",
    "            nn.Conv2d(32, 64, 5, stride=2, padding=1),\n",
    "            nn.BatchNorm2d(64),\n",
    "            nn.ReLU(True),     \n",
    "            nn.Conv2d(64, 128, 7, stride=2, padding=0),\n",
    "            nn.BatchNorm2d(128),\n",
    "            nn.ReLU(True),  \n",
    "        )\n",
    "        \n",
    "        ### Flatten layer\n",
    "        self.flatten = nn.Flatten(start_dim=1)\n",
    "        \n",
    "    def forward(self, x):\n",
    "        x = self.encoder_cnn(x)\n",
    "        x = self.flatten(x)\n",
    "        return x"
   ]
  },
  {
   "cell_type": "code",
   "execution_count": null,
   "metadata": {},
   "outputs": [],
   "source": [
    "# class Decoder(nn.Module):\n",
    "    \n",
    "#     def __init__(self):\n",
    "#         super().__init__()\n",
    "\n",
    "#         self.unflatten = nn.Unflatten(dim=1, \n",
    "#         unflattened_size=(128, 1, 1))\n",
    "\n",
    "#         self.decoder_conv = nn.Sequential(\n",
    "#             nn.ConvTranspose2d(128, 64, 7, \n",
    "#             stride=2, padding=0, output_padding=0),\n",
    "#             nn.BatchNorm2d(64),\n",
    "#             nn.ReLU(True),\n",
    "#             nn.ConvTranspose2d(64, 32, 5,\n",
    "#             stride=2, padding=1, output_padding=0),\n",
    "#             nn.BatchNorm2d(32),\n",
    "#             nn.ConvTranspose2d(32, 16, 5, \n",
    "#             stride=2, padding=1, output_padding=0),\n",
    "#             nn.BatchNorm2d(16),\n",
    "#             nn.ReLU(True),\n",
    "#             nn.ConvTranspose2d(16, 1, 5, \n",
    "#             stride=2, padding=1, output_padding=1)\n",
    "#         )\n",
    "        \n",
    "#     def forward(self, x):\n",
    "#         x = self.unflatten(x)\n",
    "#         x = self.decoder_conv(x)\n",
    "#         x = torch.sigmoid(x)\n",
    "#         return x"
   ]
  },
  {
   "cell_type": "code",
   "execution_count": null,
   "metadata": {},
   "outputs": [],
   "source": [
    "# create a new encoder\n",
    "encoder = Encoder()\n",
    "# decoder = Decoder()"
   ]
  },
  {
   "cell_type": "code",
   "execution_count": null,
   "metadata": {},
   "outputs": [],
   "source": [
    "#todo: load encoder checkpoint from file\n",
    "checkpoint = torch.load(f'{ENCODER_PATH}epoch-{LOAD_EPOCH}.tar')\n",
    "encoder.load_state_dict(checkpoint['model_state_dict'])\n",
    "\n",
    "# checkpoint = torch.load(f'{DECODER_PATH}epoch-{LOAD_EPOCH}.tar')\n",
    "# decoder.load_state_dict(checkpoint['model_state_dict'])\n",
    "\n",
    "encoder.to(device)\n",
    "# decoder.to(device)\n",
    "\n",
    "encoder.eval()\n",
    "# decoder.eval()"
   ]
  },
  {
   "cell_type": "code",
   "execution_count": null,
   "metadata": {},
   "outputs": [],
   "source": [
    "# #todo: run the map through the encoder and get an encoded map to use in the lstm\n",
    "# flat_map = np.loadtxt(f\"./env/{MAP_NAME}/{MAP_NAME}.txt\", skiprows=2)                                                   # load in the flat path from file\n",
    "# map = torch.tensor(np.asarray(flat_map, dtype=int).reshape(MAP_SHAPE[0], MAP_SHAPE[1])).to(device, dtype=torch.float)     # unflatten the map from the file\n",
    "\n",
    "# # plt.imshow(map.cpu())\n",
    "# # plt.show()\n",
    "\n",
    "# map_4d = map.unsqueeze(0).unsqueeze(0)\n",
    "# encoded_map = encoder(map_4d)#.squeeze()\n",
    "# # print(encoded_map.shape)\n",
    "\n",
    "# # decoded_map = decoder(encoded_map)\n",
    "# # new_map_2d = decoded_map.squeeze()\n",
    "\n",
    "# # plt.imshow(new_map_2d.cpu().detach().numpy())\n",
    "# # plt.show()"
   ]
  },
  {
   "cell_type": "code",
   "execution_count": null,
   "metadata": {},
   "outputs": [],
   "source": [
    "maps = []\n",
    "\n",
    "train_target_paths = []\n",
    "train_input_paths = []\n",
    "train_goal_points = []\n",
    "\n",
    "test_target_paths = []\n",
    "test_input_paths = []\n",
    "test_goal_points = []\n",
    "\n",
    "nbr_eval_paths = 2\n",
    "\n",
    "for data in train_dataset:\n",
    "    maps.append(data[0].to(device))\n",
    "\n",
    "    train_target_paths_dummy = []\n",
    "    train_input_paths_dummy = []\n",
    "    train_goal_points_dummy = torch.Tensor()\n",
    "\n",
    "    test_target_paths_dummy = []\n",
    "    test_input_paths_dummy = []\n",
    "    test_goal_points_dummy = torch.Tensor()\n",
    "\n",
    "    for path in data[nbr_eval_paths+1:]:\n",
    "        input_path = path[:-1] #all points execpt last\n",
    "        target_path = path[1:]\n",
    "        goal_point = path[len(path)-1].unsqueeze(0)\n",
    "\n",
    "        train_target_paths_dummy.append(torch.Tensor(target_path).to(device))\n",
    "        train_input_paths_dummy.append(torch.Tensor(input_path).to(device))\n",
    "        train_goal_points_dummy = torch.cat((train_goal_points_dummy, goal_point), 0)\n",
    "\n",
    "    for path in data[1:nbr_eval_paths+1]:\n",
    "        input_path = path[:-1] #all points execpt last five\n",
    "        target_path = path[1:]\n",
    "        goal_point = path[len(path)-1].unsqueeze(0)\n",
    "\n",
    "        test_target_paths_dummy.append(torch.Tensor(target_path).to(device))\n",
    "        test_input_paths_dummy.append(torch.Tensor(input_path).to(device))\n",
    "        test_goal_points_dummy = torch.cat((test_goal_points_dummy, goal_point), 0)\n",
    "\n",
    "    train_goal_points_dummy = train_goal_points_dummy.to(device)\n",
    "    test_goal_points_dummy = test_goal_points_dummy.to(device)\n",
    "\n",
    "    # add paths\n",
    "    train_target_paths.append(train_target_paths_dummy)\n",
    "    train_input_paths.append(train_input_paths_dummy)\n",
    "    train_goal_points.append(train_goal_points_dummy)\n",
    "\n",
    "    test_target_paths.append(test_target_paths_dummy)\n",
    "    test_input_paths.append(test_input_paths_dummy)\n",
    "    test_goal_points.append(test_goal_points_dummy)\n",
    "\n"
   ]
  },
  {
   "cell_type": "code",
   "execution_count": null,
   "metadata": {},
   "outputs": [],
   "source": [
    "print(len(train_input_paths))\n",
    "print(len(train_target_paths))\n",
    "print(len(train_goal_points))\n",
    "\n",
    "print(len(test_input_paths))\n",
    "\n",
    "map_num = 1\n",
    "\n",
    "print(f\"path num: {len(train_input_paths[map_num])}\")\n",
    "print(train_input_paths[map_num])\n",
    "print(len(train_target_paths[map_num]))\n",
    "print(len(train_goal_points[map_num]))"
   ]
  },
  {
   "cell_type": "code",
   "execution_count": null,
   "metadata": {},
   "outputs": [],
   "source": [
    "map = maps[0]\n",
    "# print(map.device)\n",
    "plt.imshow(map.cpu())\n",
    "plt.show()\n",
    "\n",
    "map_4d = map.unsqueeze(0).unsqueeze(0)\n",
    "encoded_map = encoder(map_4d)#.squeeze()\n",
    "print(encoded_map.shape)\n",
    "\n",
    "# decoded_map = decoder(encoded_map)\n",
    "# new_map_2d = decoded_map.squeeze()\n",
    "\n",
    "# plt.imshow(new_map_2d.cpu().detach().numpy())\n",
    "# plt.show()"
   ]
  },
  {
   "cell_type": "code",
   "execution_count": null,
   "metadata": {},
   "outputs": [],
   "source": [
    "class MyLSTM(nn.Module):\n",
    "  # hidden_d - the size of the hidden LSTM layers\n",
    "  # map_d - the flattened/encoded map dimension\n",
    "  def __init__(self, hidden_d=120, map_d=128, device=\"cpu\"):\n",
    "    self.hidden_d = hidden_d\n",
    "    self.device = device\n",
    "    super(MyLSTM, self).__init__()\n",
    "\n",
    "    # map hidden layer\n",
    "    self.lstm_map = nn.LSTMCell(input_size=map_d, hidden_size=self.hidden_d, device=self.device)\n",
    "\n",
    "    # points hidden layer\n",
    "    self.lstm_points = nn.LSTMCell(input_size=4, hidden_size=self.hidden_d, device=self.device)\n",
    "    \n",
    "    # \"upper\" hidden layer\n",
    "    self.lstm1 = nn.LSTMCell(input_size=self.hidden_d*2, hidden_size=self.hidden_d, device=self.device)\n",
    "    self.fc = nn.Linear(self.hidden_d, 2, device=self.device)\n",
    "\n",
    "    #dropout\n",
    "    self.do = nn.Dropout(p=DROPOUT_P)\n",
    "\n",
    "\n",
    "  def forward(self, goal_point, current_point, map):\n",
    "\n",
    "    # Creation of cell state and hidden state for map hidden layer\n",
    "    hidden_state_map = torch.zeros(1, self.hidden_d).to(self.device)\n",
    "    cell_state_map = torch.zeros(1, self.hidden_d).to(self.device)\n",
    "\n",
    "    # Creation of cell state and hidden state for points hidden layer\n",
    "    hidden_state_points = torch.zeros(1, self.hidden_d).to(self.device)\n",
    "    cell_state_points = torch.zeros(1, self.hidden_d).to(self.device)\n",
    "\n",
    "    # Creation of cell state and hidden state for \"upper\" hidden layer\n",
    "    hidden_state_1 = torch.zeros(1, self.hidden_d).to(self.device)\n",
    "    cell_state_1 = torch.zeros(1, self.hidden_d).to(self.device)\n",
    "\n",
    "    outputs = []\n",
    "\n",
    "    # initialize weights to random[-0.1, 0.1) (need to update initialzation to match paper)\n",
    "    # weights initialization\n",
    "    torch.nn.init.xavier_normal_(hidden_state_map)\n",
    "    torch.nn.init.xavier_normal_(cell_state_map)\n",
    "\n",
    "    torch.nn.init.xavier_normal_(hidden_state_points)\n",
    "    torch.nn.init.xavier_normal_(cell_state_points)\n",
    "\n",
    "    torch.nn.init.xavier_normal_(hidden_state_1)\n",
    "    torch.nn.init.xavier_normal_(cell_state_1)\n",
    "\n",
    "    # Concatenate start and goal\n",
    "    points = torch.cat([current_point, goal_point], 0).unsqueeze(0)\n",
    "\n",
    "    hidden_state_map, cell_state_map = self.lstm_map(map, (hidden_state_map, cell_state_map))\n",
    "    hidden_state_points, cell_state_points = self.lstm_points(points, (hidden_state_points, cell_state_points))\n",
    "\n",
    "    # Concatenate the output the lstm layer output from points and map into a single input to the final \"upper\" hidden layer\n",
    "    final_layer_input = torch.cat([hidden_state_map, hidden_state_points], 1)\n",
    "    #dropout before final layer\n",
    "    if DROPOUT: final_layer_input = self.do(final_layer_input) # dropout here\n",
    "    hidden_state_1, cell_state_1 = self.lstm1(final_layer_input, (hidden_state_1, cell_state_1))\n",
    "      \n",
    "    # Last hidden state is passed through a fully connected neural net\n",
    "    output = self.fc(hidden_state_1)\t\n",
    "    outputs.append(output)\n",
    "\n",
    "    outputs = torch.cat(outputs, dim=0)\n",
    "    \n",
    "    return outputs"
   ]
  },
  {
   "cell_type": "code",
   "execution_count": null,
   "metadata": {},
   "outputs": [],
   "source": [
    "rnn = MyLSTM(device=device)\n",
    "loss = []\n",
    "criterion = nn.MSELoss()\n",
    "opt = torch.optim.Adam(rnn.parameters(), lr=0.00005)\n",
    "# n_epochs = 1000\n",
    "# n_epochs = 4\n",
    "n_epochs = 2\n",
    "for e in tqdm(range(n_epochs)):\n",
    "  print(f'epoch: {e}')\n",
    "  for map_num in tqdm(range(len(maps))):                                          # go through each map\n",
    "    encoded_map = encoder(maps[map_num].unsqueeze(0).unsqueeze(0))\n",
    "    for path_num in range(len(train_input_paths[map_num])):                # go through each path\n",
    "      for point_num in range(len(train_input_paths[map_num][path_num])):   # go through each point\n",
    "\n",
    "        # predict next point:\n",
    "        pred = rnn(train_goal_points[map_num][path_num], train_input_paths[map_num][path_num][point_num], encoded_map).squeeze()\n",
    "\n",
    "        # calculate loss:\n",
    "        err = criterion(pred, train_target_paths[map_num][path_num][point_num])\n",
    "        opt.zero_grad()\n",
    "        err.backward(retain_graph=True)\n",
    "        opt.step()\n",
    "\n",
    "        loss.append(err.item())\n",
    "\n",
    "        # # print loss:\n",
    "        # if point_num % 100 == 0:  \n",
    "        #   print(err.item())\n",
    "    # print(err.item())\n",
    "\n",
    "plt.plot(loss)\n",
    "plt.ylabel('Loss')\n",
    "plt.xlabel('iteration')\n",
    "plt.show()"
   ]
  },
  {
   "cell_type": "code",
   "execution_count": null,
   "metadata": {},
   "outputs": [],
   "source": [
    "SAVE_PATH = f\"checkpoints/lstm/\"\n",
    "\n",
    "torch.save({\n",
    "            'epoch': e,\n",
    "            'model_state_dict': rnn.state_dict(),\n",
    "            'optimizer_state_dict': opt.state_dict(),\n",
    "            'loss': loss[len(loss)-1],\n",
    "}, f\"{SAVE_PATH}epoch-{e}.tar\")"
   ]
  },
  {
   "cell_type": "code",
   "execution_count": null,
   "metadata": {},
   "outputs": [],
   "source": [
    "# testing to see if it follows paths used for training:\n",
    "\n",
    "num_points = 30 # num points to predict for each path\n",
    "maps_to_gen = 3\n",
    "paths_to_gen = 4 # num training paths to plot\n",
    "\n",
    "for map_idx in range(maps_to_gen):\n",
    "    map = maps[map_idx]\n",
    "    for path_idx in range(paths_to_gen):\n",
    "        start_point = train_input_paths[map_idx][path_idx][0]\n",
    "        generated_pts = []\n",
    "        with torch.no_grad():\n",
    "            \n",
    "            # add start point:\n",
    "            generated_pts.append(start_point.cpu().detach().numpy().tolist())\n",
    "            prev_pred = start_point\n",
    "\n",
    "            # predict other points:\n",
    "            for i in range(num_points):\n",
    "                pred = rnn(train_goal_points[map_idx][path_idx], prev_pred, encoded_map).squeeze()\n",
    "                prev_pred = pred\n",
    "                generated_pts.append(pred.cpu().detach().numpy().tolist())\n",
    "                if check_prox(train_goal_points[path_idx][path_idx].cpu().detach().numpy().tolist(), pred.cpu().detach().numpy().tolist(), 5) == 1:  # stop predicting if close to goal\n",
    "                    print(\"threshhold met, exiting\")\n",
    "                    break\n",
    "\n",
    "        xs = []\n",
    "        ys = []\n",
    "\n",
    "        for x,y in generated_pts:\n",
    "            xs.append(x)\n",
    "            ys.append(y)\n",
    "\n",
    "        plt.imshow(map.cpu())\n",
    "        # plt.plot(xs, ys, color='k', label = \"input\")\n",
    "        plt.plot(xs, ys, color='b', label = \"predicted\")\n",
    "        plt.plot(train_input_paths[map_idx][path_idx][:,0].cpu(), train_input_paths[map_idx][path_idx][:,1].cpu(), color='r', label = \"truth\", linestyle='dashed')\n",
    "        plt.scatter(train_goal_points[map_idx][path_idx][0].cpu(), train_goal_points[map_idx][path_idx][1].cpu())\n",
    "        plt.scatter(start_point[0].cpu(), start_point[1].cpu())\n",
    "        plt.legend()\n",
    "        plt.show()"
   ]
  },
  {
   "cell_type": "code",
   "execution_count": 21,
   "metadata": {},
   "outputs": [
    {
     "data": {
      "image/png": "[encoded data removed]",
      "text/plain": [
       "<Figure size 432x288 with 1 Axes>"
      ]
     },
     "metadata": {
      "needs_background": "light"
     },
     "output_type": "display_data"
    },
    {
     "data": {
      "image/png": "[encoded data removed]",
      "text/plain": [
       "<Figure size 432x288 with 1 Axes>"
      ]
     },
     "metadata": {
      "needs_background": "light"
     },
     "output_type": "display_data"
    },
    {
     "data": {
      "image/png": "[encoded data removed]",
      "text/plain": [
       "<Figure size 432x288 with 1 Axes>"
      ]
     },
     "metadata": {
      "needs_background": "light"
     },
     "output_type": "display_data"
    },
    {
     "data": {
      "image/png": "[encoded data removed]",
      "text/plain": [
       "<Figure size 432x288 with 1 Axes>"
      ]
     },
     "metadata": {
      "needs_background": "light"
     },
     "output_type": "display_data"
    },
    {
     "data": {
      "image/png": "[encoded data removed]",
      "text/plain": [
       "<Figure size 432x288 with 1 Axes>"
      ]
     },
     "metadata": {
      "needs_background": "light"
     },
     "output_type": "display_data"
    },
    {
     "data": {
      "image/png": "[encoded data removed]",
      "text/plain": [
       "<Figure size 432x288 with 1 Axes>"
      ]
     },
     "metadata": {
      "needs_background": "light"
     },
     "output_type": "display_data"
    },
    {
     "data": {
      "image/png": "[encoded data removed]",
      "text/plain": [
       "<Figure size 432x288 with 1 Axes>"
      ]
     },
     "metadata": {
      "needs_background": "light"
     },
     "output_type": "display_data"
    },
    {
     "data": {
      "image/png": "[encoded data removed]",
      "text/plain": [
       "<Figure size 432x288 with 1 Axes>"
      ]
     },
     "metadata": {
      "needs_background": "light"
     },
     "output_type": "display_data"
    },
    {
     "data": {
      "image/png": "[encoded data removed]",
      "text/plain": [
       "<Figure size 432x288 with 1 Axes>"
      ]
     },
     "metadata": {
      "needs_background": "light"
     },
     "output_type": "display_data"
    },
    {
     "data": {
      "image/png": "[encoded data removed]",
      "text/plain": [
       "<Figure size 432x288 with 1 Axes>"
      ]
     },
     "metadata": {
      "needs_background": "light"
     },
     "output_type": "display_data"
    }
   ],
   "source": [
    "# load map lstm was not trained on:\n",
    "# flat_map = np.loadtxt(f\"./env/{MAP_NAME}/{MAP_NAME}.txt\", skiprows=2)                                                   # load in the flat path from file\n",
    "flat_map = np.loadtxt(f\"./env/many_maps_1/{DATASET}/map_2/map_2.txt\")\n",
    "map = torch.tensor(np.asarray(flat_map, dtype=int).reshape(MAP_SHAPE[0], MAP_SHAPE[1])).to(device, dtype=torch.float)     # unflatten the map from the file\n",
    "map_4d = map.unsqueeze(0).unsqueeze(0)\n",
    "encoded_map = encoder(map_4d)\n",
    "\n",
    "# testing to see if it follows new paths:\n",
    "non_obs_coords = np.transpose(torch.flipud(np.argwhere(map.cpu()==0)))\n",
    "# print(non_obs_coords)\n",
    "\n",
    "start_points_list = []\n",
    "coords_list = []\n",
    "\n",
    "num_points = 30 # num points to predict for each path\n",
    "paths_to_gen = 10 # num paths to generate\n",
    "\n",
    "for x in range(paths_to_gen):\n",
    "    start_point = random.choice(non_obs_coords).float().to(device)\n",
    "    goal_point = random.choice(non_obs_coords).float().to(device)\n",
    "\n",
    "    points = []\n",
    "    with torch.no_grad():\n",
    "        pred = start_point\n",
    "        points.append(pred.cpu().detach().numpy().tolist())\n",
    "        for point in range(num_points):\n",
    "            pred = rnn(goal_point, pred, encoded_map).squeeze()\n",
    "            points.append(pred.cpu().detach().numpy().tolist())\n",
    "            if check_prox(goal_point.cpu().detach().numpy().tolist(), pred.cpu().detach().numpy().tolist(), 2): # stop predicting if close to goal\n",
    "                break\n",
    "\n",
    "    xs = []\n",
    "    ys = []\n",
    "    for x,y in points:\n",
    "        xs.append(x)\n",
    "        ys.append(y)\n",
    "\n",
    "    plt.imshow(map.cpu())\n",
    "    plt.plot(xs, ys, color='b', label = \"predicted\")\n",
    "    plt.scatter(goal_point[0].cpu(), goal_point[1].cpu())\n",
    "    plt.scatter(start_point[0].cpu(), start_point[1].cpu())\n",
    "    plt.legend()\n",
    "    plt.show()"
   ]
  }
 ],
 "metadata": {
  "kernelspec": {
   "display_name": "Python 3.7.11 ('bayesianNN')",
   "language": "python",
   "name": "python3"
  },
  "language_info": {
   "codemirror_mode": {
    "name": "ipython",
    "version": 3
   },
   "file_extension": ".py",
   "mimetype": "text/x-python",
   "name": "python",
   "nbconvert_exporter": "python",
   "pygments_lexer": "ipython3",
   "version": "3.7.11"
  },
  "orig_nbformat": 4,
  "vscode": {
   "interpreter": {
    "hash": "65c0cf972fe55eaf0c962c4929f592d86a72c532b00283f932a90435beee88e0"
   }
  }
 },
 "nbformat": 4,
 "nbformat_minor": 2
}

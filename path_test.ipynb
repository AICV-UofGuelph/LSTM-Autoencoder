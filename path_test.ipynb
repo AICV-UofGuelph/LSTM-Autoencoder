{
 "cells": [
  {
   "cell_type": "code",
   "execution_count": 7,
   "metadata": {},
   "outputs": [],
   "source": [
    "import os\n",
    "import csv"
   ]
  },
  {
   "cell_type": "code",
   "execution_count": 8,
   "metadata": {},
   "outputs": [],
   "source": [
    "dir = os.fsencode('./env/single_20_density_large/eval/map_0/paths')\n",
    "    \n",
    "#open write to csv file\n",
    "f2 = open('./points.csv', 'w')\n",
    "writer = csv.writer(f2)\n",
    "\n",
    "for filename in os.listdir(dir):\n",
    "    f = os.path.join(dir, filename)\n",
    "    f = open(f, 'r')\n",
    "    file_contents = f.read()\n",
    "    # print(file_contents)\n",
    "    first_enter = file_contents.index(\"\\n\")\n",
    "    second_enter = file_contents[first_enter+1:].index(\"\\n\")\n",
    "    start = str(file_contents[0:first_enter+second_enter+1])\n",
    "    # print(\"start: \" + start)\n",
    "\n",
    "    last_enter = file_contents.rfind(\"\\n\")\n",
    "    second_last_enter = file_contents[:last_enter-1].rfind(\"\\n\")\n",
    "    third_last_enter = file_contents[:second_last_enter-1].rfind(\"\\n\")\n",
    "    end=str(file_contents[third_last_enter+1:last_enter])\n",
    "    # print(\"end: \" + end)\n",
    "\n",
    "    combined = start+end\n",
    "    combined = combined.replace(\"\\n\", \"\")\n",
    "    # print(\"combined: \" + combined)\n",
    "    writer.writerow([combined])\n",
    "    # print(\"*****\")\n",
    "f2.close()"
   ]
  }
 ],
 "metadata": {
  "kernelspec": {
   "display_name": "bayesianNN",
   "language": "python",
   "name": "python3"
  },
  "language_info": {
   "codemirror_mode": {
    "name": "ipython",
    "version": 3
   },
   "file_extension": ".py",
   "mimetype": "text/x-python",
   "name": "python",
   "nbconvert_exporter": "python",
   "pygments_lexer": "ipython3",
   "version": "3.7.11"
  },
  "orig_nbformat": 4,
  "vscode": {
   "interpreter": {
    "hash": "65c0cf972fe55eaf0c962c4929f592d86a72c532b00283f932a90435beee88e0"
   }
  }
 },
 "nbformat": 4,
 "nbformat_minor": 2
}
